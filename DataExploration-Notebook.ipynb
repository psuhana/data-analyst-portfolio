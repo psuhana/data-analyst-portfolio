{
    "metadata": {
        "kernelspec": {
            "name": "SQL",
            "display_name": "SQL",
            "language": "sql"
        },
        "language_info": {
            "name": "sql",
            "version": ""
        }
    },
    "nbformat_minor": 2,
    "nbformat": 4,
    "cells": [
        {
            "cell_type": "markdown",
            "source": [
                "# **COVID-19 Data Exploration and Analysis**"
            ],
            "metadata": {
                "azdata_cell_guid": "8ee6ed8b-8ea6-405a-8168-41b0615d398b"
            },
            "attachments": {}
        },
        {
            "cell_type": "markdown",
            "source": [
                "## <span style=\"font-size: 18px; font-family: -apple-system, BlinkMacSystemFont, sans-serif; color: var(--vscode-foreground);\"><b>Introduction</b></span>\n",
                "\n",
                "**Objective:** This project explores a global dataset on COVID-19 to uncover patterns and insights related to cases, deaths, and vaccinations across different countries. Using SQL, the analysis focuses on extracting meaningful statistics, calculating derived metrics such as death percentages, and identifying trends that highlight the pandemic's impact worldwide.\n",
                "\n",
                "**Dataset Description:** The dataset includes detailed records for each country, with key attributes such as:\n",
                "\n",
                "- Total cases and new cases reported daily\n",
                "    \n",
                "- Total deaths and new deaths\n",
                "    \n",
                "- Population of each country\n",
                "    \n",
                "- Vaccination data\n",
                "    \n",
                "- Other Health Information\n",
                "    \n",
                "\n",
                "**Key Goals of the Project:**\n",
                "\n",
                "1. Analyze the spread and severity of COVID-19 across different countries.\n",
                "    \n",
                "2. Calculate critical metrics, such as the percentage of deaths relative to total cases.\n",
                "    \n",
                "3. Understand country-specific trends and factors contributing to variations in the impact of COVID-19.\n",
                "    \n",
                "\n",
                "This exploration enables a data-driven understanding of the pandemic and helps visualize its global impact."
            ],
            "metadata": {
                "azdata_cell_guid": "f01e601a-cd15-4541-bc24-cf3258994c28"
            },
            "attachments": {}
        },
        {
            "cell_type": "markdown",
            "source": [
                "## Basic Data Extraction\n",
                "\n",
                "**Purpose:** This query retrieves essential information to establish a foundational understanding of COVID-19's spread. It includes:\n",
                "\n",
                "- The country and date to track data over time.\n",
                "    \n",
                "- Total cases and new cases to measure the daily growth of infections.\n",
                "    \n",
                "- Total deaths to assess the pandemic's severity.\n",
                "    \n",
                "- Population as a baseline for calculating proportional statistics."
            ],
            "metadata": {
                "language": "sql",
                "azdata_cell_guid": "0d963242-ff48-4d9b-9dcb-9989ee8c0347"
            },
            "attachments": {}
        },
        {
            "cell_type": "code",
            "source": [
                "SELECT country, date, total_cases, new_cases, total_deaths, population FROM CovidDeaths"
            ],
            "metadata": {
                "azdata_cell_guid": "67b44851-d28e-4ec7-b506-ba792e3c6b4f",
                "language": "sql"
            },
            "outputs": [],
            "execution_count": null
        },
        {
            "cell_type": "markdown",
            "source": [
                "## Calculating Death Percentage\n",
                "\n",
                "**Purpose:** This query calculates the percentage of deaths relative to the total number of cases for each country and date. The use of `NULLIF(total_cases, 0)` prevents division by zero errors.\n",
                "\n",
                "**Metric Explanation:**\n",
                "\n",
                "- **Death Percentage:** The proportion of deaths among confirmed cases, expressed as a percentage, is a key metric for assessing the lethality of the virus in different regions.\n",
                "\n",
                "**Insights Derived:**\n",
                "\n",
                "1. Countries with the highest death rates relative to cases.\n",
                "    \n",
                "2. Time-based changes in death percentages, reflecting healthcare improvements or pandemic waves.\n",
                "    \n",
                "3. Insights into regional healthcare capacities and COVID-19 response effectiveness."
            ],
            "metadata": {
                "language": "sql",
                "azdata_cell_guid": "b12d14fb-d301-481d-8aa9-8f60d612b7d8"
            },
            "attachments": {}
        },
        {
            "cell_type": "code",
            "source": [
                "SELECT country, date, total_cases, total_deaths, (total_deaths/ NULLIF(total_cases,0))*100 AS death_percentage FROM CovidDeaths"
            ],
            "metadata": {
                "language": "sql",
                "azdata_cell_guid": "4253febc-ab21-4d34-90ab-c34e8606d489"
            },
            "outputs": [],
            "execution_count": null
        },
        {
            "cell_type": "markdown",
            "source": [
                "## Calculating Affected Percentage\n",
                "\n",
                "**Purpose:** This query determines the percentage of a country's population affected by COVID-19. It helps measure the pandemic's penetration rate in each country.\n",
                "\n",
                "**Insights Derived:**\n",
                "\n",
                "1. Countries with the highest proportions of affected populations.\n",
                "    \n",
                "2. Trends in how infection rates have grown over time."
            ],
            "metadata": {
                "azdata_cell_guid": "b2c6e8d0-3b79-445c-bf53-21714beb3552"
            },
            "attachments": {}
        },
        {
            "cell_type": "code",
            "source": [
                "SELECT country, date, total_cases, population, (total_cases/ NULLIF(population,0))*100 AS affected_percentage FROM CovidDeaths"
            ],
            "metadata": {
                "azdata_cell_guid": "6d8445cd-8a21-4774-b82c-37b8301b4c5c",
                "language": "sql"
            },
            "outputs": [],
            "execution_count": null
        },
        {
            "cell_type": "markdown",
            "source": [
                "## Maximum Cases and Affected Percentage by Country\n",
                "\n",
                "**Purpose:** This query calculates the maximum total cases and the highest affected percentage for each country. It provides insights into countries that experienced the highest peaks during the pandemic.\n",
                "\n",
                "**Insights Derived:**\n",
                "\n",
                "1. Countries with the highest peak cases relative to population.\n",
                "    \n",
                "2. Variations in the pandemic’s impact by continent and population size."
            ],
            "metadata": {
                "azdata_cell_guid": "a2f70c7d-3806-4f9f-8185-ddbc87b3a447"
            },
            "attachments": {}
        },
        {
            "cell_type": "code",
            "source": [
                "SELECT country, population, MAX(total_cases) AS max_cases, MAX((total_cases/ NULLIF(population,0)))*100 AS affected_percentage\n",
                "FROM CovidDeaths\n",
                "WHERE continent IS NOT NULL\n",
                "GROUP BY country, population\n",
                "ORDER BY affected_percentage DESC"
            ],
            "metadata": {
                "azdata_cell_guid": "73927d6e-ebc3-40e2-bf97-7c647c3d58f0",
                "language": "sql"
            },
            "outputs": [],
            "execution_count": null
        },
        {
            "cell_type": "markdown",
            "source": [
                "## Death Statistics by Country\n",
                "\n",
                "**Purpose:** This query identifies countries with the highest total deaths, highlighting regions most severely affected by fatalities.\n",
                "\n",
                "**Insights Derived:**\n",
                "\n",
                "1. Countries with the highest death tolls.\n",
                "    \n",
                "2. Regional patterns of high fatalities."
            ],
            "metadata": {
                "azdata_cell_guid": "6f7cde97-e7ad-4c9e-a5f2-e67a6c7e636d"
            },
            "attachments": {}
        },
        {
            "cell_type": "code",
            "source": [
                "SELECT country, MAX(total_deaths) AS max_deaths\n",
                "FROM CovidDeaths\n",
                "WHERE continent IS NOT NULL\n",
                "GROUP BY country\n",
                "ORDER BY max_deaths DESC;"
            ],
            "metadata": {
                "azdata_cell_guid": "3e366efe-8fdc-464e-95bc-3a644eaf0417",
                "language": "sql"
            },
            "outputs": [],
            "execution_count": null
        },
        {
            "cell_type": "markdown",
            "source": [
                "## Death Percentage by Country\n",
                "\n",
                "**Purpose:** This query identifies countries with the highest death percentages relative to population.\n",
                "\n",
                "**Insights Derived:**\n",
                "\n",
                "1. Most severely affected countries in terms of population impact.\n",
                "    \n",
                "2. Understanding the lethality of the pandemic in smaller versus larger populations."
            ],
            "metadata": {
                "azdata_cell_guid": "b3b56e1a-314c-4c28-84ad-2509b04a3e3c"
            },
            "attachments": {}
        },
        {
            "cell_type": "code",
            "source": [
                "SELECT country, population, MAX(total_deaths) AS max_deaths,\n",
                "       MAX((total_deaths / NULLIF(population, 0)) * 100) AS death_percentage\n",
                "FROM CovidDeaths\n",
                "WHERE continent IS NOT NULL\n",
                "GROUP BY country, population\n",
                "ORDER BY death_percentage DESC;"
            ],
            "metadata": {
                "azdata_cell_guid": "f3bd223e-262e-4fe0-917d-53f735d79ad0",
                "language": "sql",
                "tags": [
                    "hide_input"
                ]
            },
            "outputs": [],
            "execution_count": null
        },
        {
            "cell_type": "markdown",
            "source": [
                "## Deaths by Continent\n",
                "\n",
                "**Purpose:** This query summarizes total deaths at the continental level, providing a macro perspective on the pandemic's impact.\n",
                "\n",
                "**Insights Derived:**\n",
                "\n",
                "1. Continents most affected by COVID-19 fatalities.\n",
                "    \n",
                "2. A clearer view of global patterns."
            ],
            "metadata": {
                "azdata_cell_guid": "4f8ff313-5d35-45b3-8fb3-b0cf2111b41c"
            },
            "attachments": {}
        },
        {
            "cell_type": "code",
            "source": [
                "SELECT continent, MAX(total_deaths) AS max_deaths\n",
                "FROM CovidDeaths\n",
                "WHERE continent IS NOT NULL\n",
                "GROUP BY continent\n",
                "ORDER BY max_deaths DESC;"
            ],
            "metadata": {
                "azdata_cell_guid": "002665ea-f3b6-40d7-a079-82fa672ab54a",
                "language": "sql"
            },
            "outputs": [],
            "execution_count": null
        },
        {
            "cell_type": "markdown",
            "source": [
                "## Vaccination Analysis and Trends\n",
                "\n",
                "**Purpose:** This query tracks cumulative vaccinations for each country, allowing for an analysis of vaccination rollouts over time.\n",
                "\n",
                "**Insights Derived:**\n",
                "\n",
                "1. Countries with the fastest vaccination rollouts.\n",
                "    \n",
                "2. Variations in vaccination trends between continents."
            ],
            "metadata": {
                "azdata_cell_guid": "afa28466-3b13-4820-bc0e-7832aeebfbb4"
            },
            "attachments": {}
        },
        {
            "cell_type": "code",
            "source": [
                "SELECT cd.continent, cd.country, cd.date, population, new_vaccinations, \n",
                "       SUM(new_vaccinations) OVER (PARTITION BY cd.country ORDER BY cd.country, cd.date) AS RollingPeopleVaccinated\n",
                "FROM CovidDeaths cd\n",
                "JOIN CovidVaccinations cv\n",
                "ON cd.country = cv.country AND cd.date = cv.date\n",
                "WHERE cd.continent IS NOT NULL;"
            ],
            "metadata": {
                "azdata_cell_guid": "63d8773a-3b31-4641-96f0-3bc05427c5aa",
                "language": "sql"
            },
            "outputs": [],
            "execution_count": null
        },
        {
            "cell_type": "markdown",
            "source": [
                "## Common Table Expression (CTE)\n",
                "\n",
                "**Purpose:** The CTE organizes vaccination data by creating a rolling count of vaccinations for each country, then calculates the percentage of the population vaccinated over time.\n",
                "\n",
                "**Insights Derived:**\n",
                "\n",
                "1. Easy identification of countries with higher percentages of vaccinated populations.\n",
                "    \n",
                "2. Monitoring vaccination trends over time for each continent."
            ],
            "metadata": {
                "azdata_cell_guid": "fc314d7e-9afd-462c-b26c-a7e5a792c0c3"
            },
            "attachments": {}
        },
        {
            "cell_type": "code",
            "source": [
                "WITH DailyVac(Continent, Country, Date, Population, New_Vaccinations, RollingPeopleVaccinated)\n",
                "AS\n",
                "(\n",
                "SELECT cd.continent, cd.country, cd.date, population, new_vaccinations, \n",
                "       SUM(new_vaccinations) OVER (PARTITION BY cd.country ORDER BY cd.country, cd.date) AS RollingPeopleVaccinated\n",
                "FROM CovidDeaths cd\n",
                "JOIN CovidVaccinations cv\n",
                "ON cd.country = cv.country\n",
                "AND cd.date = cv.date\n",
                "WHERE cd.continent IS NOT NULL\n",
                ")\n",
                "SELECT *, (RollingPeopleVaccinated / Population) * 100 AS percent_rolling FROM DailyVac;"
            ],
            "metadata": {
                "azdata_cell_guid": "cee7a82e-83dc-4c96-84dd-fcc0cb888efb",
                "language": "sql",
                "tags": []
            },
            "outputs": [],
            "execution_count": null
        },
        {
            "cell_type": "markdown",
            "source": [
                "## Population vs Vaccinated Population\n",
                "\n",
                "**Purpose:** This query compares total vaccinations to population size, helping identify countries approaching population-wide immunity.\n",
                "\n",
                "**Insights Derived:**\n",
                "\n",
                "1. Countries leading in vaccination efforts.\n",
                "    \n",
                "2. The gap between vaccinated populations and total populations."
            ],
            "metadata": {
                "azdata_cell_guid": "7e33e9ca-e823-45de-9f4f-955ac5ad728b"
            },
            "attachments": {}
        },
        {
            "cell_type": "code",
            "source": [
                "SELECT cd.country, population, SUM(new_vaccinations) AS vaccinated_population\n",
                "FROM CovidDeaths cd\n",
                "JOIN CovidVaccinations cv\n",
                "ON cd.country = cv.country AND cd.date = cv.date\n",
                "WHERE cd.continent IS NOT NULL\n",
                "GROUP BY cd.country, population\n",
                "ORDER BY vaccinated_population DESC;"
            ],
            "metadata": {
                "azdata_cell_guid": "6d517dc5-a4b0-4775-9a6c-a52573646620",
                "language": "sql"
            },
            "outputs": [],
            "execution_count": null
        },
        {
            "cell_type": "markdown",
            "source": [
                "## Temporary Table for Vaccination Analysis\n",
                "\n",
                "**Purpose:** The temporary table `#PopVsVac` stores country-level vaccination statistics, enabling efficient analysis of vaccination percentages. By aggregating data for each country and calculating the vaccinated population as a percentage of the total population, this table supports detailed exploration of global vaccination efforts.\n",
                "\n",
                "**Insights Derived:**\n",
                "\n",
                "1. Countries with the highest and lowest vaccination rates.\n",
                "    \n",
                "2. Insights into regions approaching population-wide immunity.\n",
                "    \n",
                "3. Identification of vaccination disparities between countries and continents."
            ],
            "metadata": {
                "azdata_cell_guid": "acdcf1df-eba6-4c58-8bb6-b117c0e4dfea"
            },
            "attachments": {}
        },
        {
            "cell_type": "code",
            "source": [
                "DROP TABLE IF EXISTS PopVsVac;\n",
                "\n",
                "CREATE TABLE #PopVsVac (\n",
                "    Country NVARCHAR(100),\n",
                "    Population BIGINT,\n",
                "    Vaccinated_Population DECIMAL\n",
                ");\n",
                "\n",
                "INSERT INTO #PopVsVac \n",
                "SELECT cd.country, population, SUM(new_vaccinations) AS vaccinated_population\n",
                "FROM CovidDeaths cd JOIN CovidVaccinations cv\n",
                "ON cd.country = cv.country AND cd.date = cv.date\n",
                "WHERE cd.continent IS NOT NULL\n",
                "GROUP BY cd.country, population\n",
                "ORDER BY vaccinated_population DESC;\n",
                "\n",
                "SELECT *, (vaccinated_population/population)*100 AS Percent_Vaccinated FROM #PopVsVac\n",
                "ORDER BY Percent_Vaccinated"
            ],
            "metadata": {
                "azdata_cell_guid": "1ce96051-ad2c-4b72-b4dd-859f40eff0fb",
                "language": "sql"
            },
            "outputs": [],
            "execution_count": null
        },
        {
            "cell_type": "markdown",
            "source": [
                "## Creating a View for Vaccination Analysis\n",
                "\n",
                "**Purpose:** The `PercentPopVaccinated` view provides a reusable abstraction to analyze vaccination rates across countries. By summing vaccinations and relating them to population size, the view enables streamlined and consistent reporting.\n",
                "\n",
                "**Insights Derived:**\n",
                "\n",
                "1. Comparison of vaccination efforts across countries.\n",
                "    \n",
                "2. Countries nearing complete population vaccination.\n",
                "    \n",
                "3. A clear overview of global vaccination trends."
            ],
            "metadata": {
                "azdata_cell_guid": "24f27956-2448-4fa8-a54b-0997e2b193d3"
            },
            "attachments": {}
        },
        {
            "cell_type": "code",
            "source": [
                "CREATE VIEW PercentPopVaccinated AS\n",
                "SELECT cd.country, population, SUM(new_vaccinations) AS vaccinated_population\n",
                "FROM CovidDeaths cd JOIN CovidVaccinations cv\n",
                "ON cd.country = cv.country AND cd.[date] = cv.[date]\n",
                "WHERE cd.continent IS NOT NULL\n",
                "GROUP BY cd.country, population"
            ],
            "metadata": {
                "azdata_cell_guid": "846b8228-e81b-410a-9a87-a0039a463cc1",
                "language": "sql"
            },
            "outputs": [],
            "execution_count": null
        },
        {
            "cell_type": "markdown",
            "source": [
                "# Summary of Findings"
            ],
            "metadata": {
                "azdata_cell_guid": "eb1e2672-d6bf-47b0-be31-9e7fe9db1c96"
            },
            "attachments": {}
        },
        {
            "cell_type": "markdown",
            "source": [
                "The SQL data exploration of the COVID-19 dataset revealed key insights:\n",
                "\n",
                "1. **Pandemic Severity:**\n",
                "    \n",
                "    - Countries with the highest death percentages often faced healthcare capacity challenges.\n",
                "        \n",
                "    - The affected population percentage highlighted countries with widespread infection rates relative to their population sizes.\n",
                "        \n",
                "2. **Vaccination Analysis:**\n",
                "    \n",
                "    - Temporary tables and views enabled efficient calculation of vaccinated population percentages.\n",
                "        \n",
                "    - Leading countries in vaccination rates were identified, along with regions requiring greater focus.\n",
                "        \n",
                "3. **Continental Trends:**\n",
                "    \n",
                "    - Aggregated statistics by continent showed variations in COVID-19’s impact and vaccination progress."
            ],
            "metadata": {
                "azdata_cell_guid": "71b97103-2c42-48c4-8292-4ffe971e4d7d"
            },
            "attachments": {}
        }
    ]
}